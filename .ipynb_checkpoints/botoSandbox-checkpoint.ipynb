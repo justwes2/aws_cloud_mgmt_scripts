{
 "cells": [
  {
   "cell_type": "code",
   "execution_count": 1,
   "metadata": {
    "collapsed": true
   },
   "outputs": [],
   "source": [
    "import boto3"
   ]
  },
  {
   "cell_type": "code",
   "execution_count": 8,
   "metadata": {
    "collapsed": true
   },
   "outputs": [],
   "source": [
    "import uuid\n",
    "from IPython.display import display_javascript, display_html, display\n",
    "import json\n",
    "\n",
    "class RenderJSON(object):\n",
    "    def __init__(self, json_data):\n",
    "        if isinstance(json_data, dict):\n",
    "            self.json_str = json.dumps(json_data)\n",
    "        else:\n",
    "            self.json_str = json\n",
    "        self.uuid = str(uuid.uuid4())\n",
    "\n",
    "    def _ipython_display_(self):\n",
    "        display_html('<div id=\"{}\" style=\"height: 600px; width:100%;\"></div>'.format(self.uuid),\n",
    "            raw=True\n",
    "        )\n",
    "        display_javascript(\"\"\"\n",
    "        require([\"https://rawgit.com/caldwell/renderjson/master/renderjson.js\"], function() {\n",
    "          document.getElementById('%s').appendChild(renderjson(%s))\n",
    "        });\n",
    "        \"\"\" % (self.uuid, self.json_str), raw=True)"
   ]
  },
  {
   "cell_type": "code",
   "execution_count": 2,
   "metadata": {
    "collapsed": true
   },
   "outputs": [],
   "source": [
    "client = boto3.client('ec2')"
   ]
  },
  {
   "cell_type": "code",
   "execution_count": 3,
   "metadata": {
    "collapsed": true
   },
   "outputs": [],
   "source": [
    "response = client.describe_instances()"
   ]
  },
  {
   "cell_type": "code",
   "execution_count": 4,
   "metadata": {},
   "outputs": [
    {
     "name": "stdout",
     "output_type": "stream",
     "text": [
      "{u'Reservations': [{u'Instances': [{u'Monitoring': {u'State': 'disabled'}, u'PublicDnsName': '', u'StateReason': {u'Message': 'Client.UserInitiatedShutdown: User initiated shutdown', u'Code': 'Client.UserInitiatedShutdown'}, u'State': {u'Code': 80, u'Name': 'stopped'}, u'EbsOptimized': False, u'LaunchTime': datetime.datetime(2017, 11, 13, 23, 58, 37, tzinfo=tzutc()), u'PrivateIpAddress': '172.31.39.170', u'ProductCodes': [], u'VpcId': 'vpc-831776fa', u'StateTransitionReason': 'User initiated (2017-11-14 01:23:33 GMT)', u'InstanceId': 'i-0cf9a14366a969680', u'ImageId': 'ami-b9c38ad3', u'PrivateDnsName': 'ip-172-31-39-170.ec2.internal', u'KeyName': 'BabysFirstKey', u'SecurityGroups': [{u'GroupName': 'CentOS 7 -x86_64- - with Updates HVM-1708-AutogenByAWSMP-', u'GroupId': 'sg-a94fdbdb'}], u'ClientToken': 'FyQSj1509481531147', u'SubnetId': 'subnet-c6cb5d9c', u'InstanceType': 't2.small', u'NetworkInterfaces': [{u'Status': 'in-use', u'MacAddress': '0e:88:e6:d2:6a:dc', u'SourceDestCheck': True, u'VpcId': 'vpc-831776fa', u'Description': '', u'NetworkInterfaceId': 'eni-620505d5', u'PrivateIpAddresses': [{u'PrivateDnsName': 'ip-172-31-39-170.ec2.internal', u'Primary': True, u'PrivateIpAddress': '172.31.39.170'}], u'PrivateDnsName': 'ip-172-31-39-170.ec2.internal', u'Attachment': {u'Status': 'attached', u'DeviceIndex': 0, u'DeleteOnTermination': True, u'AttachmentId': 'eni-attach-32c7ecf7', u'AttachTime': datetime.datetime(2017, 10, 31, 20, 25, 32, tzinfo=tzutc())}, u'Groups': [{u'GroupName': 'CentOS 7 -x86_64- - with Updates HVM-1708-AutogenByAWSMP-', u'GroupId': 'sg-a94fdbdb'}], u'Ipv6Addresses': [], u'OwnerId': '483374585662', u'SubnetId': 'subnet-c6cb5d9c', u'PrivateIpAddress': '172.31.39.170'}], u'SourceDestCheck': True, u'Placement': {u'Tenancy': 'default', u'GroupName': '', u'AvailabilityZone': 'us-east-1d'}, u'Hypervisor': 'xen', u'BlockDeviceMappings': [{u'DeviceName': '/dev/sda1', u'Ebs': {u'Status': 'attached', u'DeleteOnTermination': True, u'VolumeId': 'vol-0f4f2c73a83246aad', u'AttachTime': datetime.datetime(2017, 10, 31, 20, 25, 33, tzinfo=tzutc())}}, {u'DeviceName': '/dev/sdc', u'Ebs': {u'Status': 'attached', u'DeleteOnTermination': False, u'VolumeId': 'vol-09ee49b7e9a643f3a', u'AttachTime': datetime.datetime(2017, 10, 31, 20, 25, 33, tzinfo=tzutc())}}, {u'DeviceName': '/dev/sdd', u'Ebs': {u'Status': 'attached', u'DeleteOnTermination': False, u'VolumeId': 'vol-0ab1e18eb4dc6c039', u'AttachTime': datetime.datetime(2017, 10, 31, 20, 25, 33, tzinfo=tzutc())}}, {u'DeviceName': '/dev/sdb', u'Ebs': {u'Status': 'attached', u'DeleteOnTermination': False, u'VolumeId': 'vol-03d385db97d79e788', u'AttachTime': datetime.datetime(2017, 10, 31, 20, 25, 33, tzinfo=tzutc())}}], u'Architecture': 'x86_64', u'RootDeviceType': 'ebs', u'RootDeviceName': '/dev/sda1', u'VirtualizationType': 'hvm', u'Tags': [{u'Value': 'EC212cdb', u'Key': 'Name'}], u'AmiLaunchIndex': 0}], u'ReservationId': 'r-0bb0446d317270205', u'Groups': [], u'OwnerId': '483374585662'}, {u'Instances': [{u'Monitoring': {u'State': 'disabled'}, u'PublicDnsName': 'ec2-54-161-86-244.compute-1.amazonaws.com', u'State': {u'Code': 16, u'Name': 'running'}, u'EbsOptimized': False, u'LaunchTime': datetime.datetime(2018, 2, 8, 20, 6, 57, tzinfo=tzutc()), u'PublicIpAddress': '54.161.86.244', u'PrivateIpAddress': '172.31.81.57', u'ProductCodes': [], u'VpcId': 'vpc-831776fa', u'StateTransitionReason': '', u'InstanceId': 'i-0a0f29c2e338fc66f', u'EnaSupport': True, u'ImageId': 'ami-0a9fac70', u'PrivateDnsName': 'ip-172-31-81-57.ec2.internal', u'KeyName': 'BabysFirstKey', u'SecurityGroups': [{u'GroupName': 'MyWebDMZ', u'GroupId': 'sg-9adee2eb'}], u'ClientToken': '', u'SubnetId': 'subnet-c2049bee', u'InstanceType': 't2.micro', u'NetworkInterfaces': [{u'Status': 'in-use', u'MacAddress': '12:2f:6a:4a:a9:3c', u'SourceDestCheck': True, u'VpcId': 'vpc-831776fa', u'Description': '', u'NetworkInterfaceId': 'eni-ce5a1203', u'PrivateIpAddresses': [{u'PrivateDnsName': 'ip-172-31-81-57.ec2.internal', u'PrivateIpAddress': '172.31.81.57', u'Primary': True, u'Association': {u'PublicIp': '54.161.86.244', u'PublicDnsName': 'ec2-54-161-86-244.compute-1.amazonaws.com', u'IpOwnerId': 'amazon'}}], u'PrivateDnsName': 'ip-172-31-81-57.ec2.internal', u'Attachment': {u'Status': 'attached', u'DeviceIndex': 0, u'DeleteOnTermination': True, u'AttachmentId': 'eni-attach-708aa1bd', u'AttachTime': datetime.datetime(2018, 2, 8, 20, 6, 57, tzinfo=tzutc())}, u'Groups': [{u'GroupName': 'MyWebDMZ', u'GroupId': 'sg-9adee2eb'}], u'Ipv6Addresses': [], u'OwnerId': '483374585662', u'PrivateIpAddress': '172.31.81.57', u'SubnetId': 'subnet-c2049bee', u'Association': {u'PublicIp': '54.161.86.244', u'PublicDnsName': 'ec2-54-161-86-244.compute-1.amazonaws.com', u'IpOwnerId': 'amazon'}}], u'SourceDestCheck': True, u'Placement': {u'Tenancy': 'default', u'GroupName': '', u'AvailabilityZone': 'us-east-1b'}, u'Hypervisor': 'xen', u'BlockDeviceMappings': [{u'DeviceName': '/dev/sda1', u'Ebs': {u'Status': 'attached', u'DeleteOnTermination': True, u'VolumeId': 'vol-080150e8019070345', u'AttachTime': datetime.datetime(2018, 2, 8, 20, 6, 57, tzinfo=tzutc())}}], u'Architecture': 'x86_64', u'RootDeviceType': 'ebs', u'RootDeviceName': '/dev/sda1', u'VirtualizationType': 'hvm', u'Tags': [{u'Value': 'R&D', u'Key': 'Dept'}, {u'Value': 'Sandbox', u'Key': 'Name'}, {u'Value': 'Wes', u'Key': 'User'}], u'AmiLaunchIndex': 0}], u'ReservationId': 'r-0f37e701af8d5f78e', u'Groups': [], u'OwnerId': '483374585662'}, {u'Instances': [{u'Monitoring': {u'State': 'disabled'}, u'PublicDnsName': '', u'StateReason': {u'Message': 'Client.UserInitiatedShutdown: User initiated shutdown', u'Code': 'Client.UserInitiatedShutdown'}, u'State': {u'Code': 80, u'Name': 'stopped'}, u'EbsOptimized': False, u'LaunchTime': datetime.datetime(2017, 10, 31, 20, 11, 16, tzinfo=tzutc()), u'PrivateIpAddress': '172.31.33.180', u'ProductCodes': [{u'ProductCodeId': 'aw0evgkw8e5c1q413zgy5pjce', u'ProductCodeType': 'marketplace'}], u'VpcId': 'vpc-831776fa', u'StateTransitionReason': 'User initiated (2017-10-31 20:25:46 GMT)', u'InstanceId': 'i-0ce759181b38fa500', u'EnaSupport': False, u'ImageId': 'ami-db48ada1', u'PrivateDnsName': 'ip-172-31-33-180.ec2.internal', u'KeyName': 'BabysFirstKey', u'SecurityGroups': [{u'GroupName': 'CentOS 7 -x86_64- - with Updates HVM-1708-AutogenByAWSMP-1', u'GroupId': 'sg-637de911'}], u'ClientToken': '150846425541675639', u'SubnetId': 'subnet-c6cb5d9c', u'InstanceType': 't2.small', u'NetworkInterfaces': [{u'Status': 'in-use', u'MacAddress': '0e:cc:4c:31:4d:f6', u'SourceDestCheck': True, u'VpcId': 'vpc-831776fa', u'Description': '', u'NetworkInterfaceId': 'eni-c2b71375', u'PrivateIpAddresses': [{u'PrivateDnsName': 'ip-172-31-33-180.ec2.internal', u'Primary': True, u'PrivateIpAddress': '172.31.33.180'}], u'PrivateDnsName': 'ip-172-31-33-180.ec2.internal', u'Attachment': {u'Status': 'attached', u'DeviceIndex': 0, u'DeleteOnTermination': True, u'AttachmentId': 'eni-attach-c3684601', u'AttachTime': datetime.datetime(2017, 10, 20, 1, 50, 58, tzinfo=tzutc())}, u'Groups': [{u'GroupName': 'CentOS 7 -x86_64- - with Updates HVM-1708-AutogenByAWSMP-1', u'GroupId': 'sg-637de911'}], u'Ipv6Addresses': [], u'OwnerId': '483374585662', u'SubnetId': 'subnet-c6cb5d9c', u'PrivateIpAddress': '172.31.33.180'}], u'SourceDestCheck': True, u'Placement': {u'Tenancy': 'default', u'GroupName': '', u'AvailabilityZone': 'us-east-1d'}, u'Hypervisor': 'xen', u'BlockDeviceMappings': [{u'DeviceName': '/dev/sda1', u'Ebs': {u'Status': 'attached', u'DeleteOnTermination': False, u'VolumeId': 'vol-041a6910c8048bc21', u'AttachTime': datetime.datetime(2017, 10, 20, 1, 50, 59, tzinfo=tzutc())}}, {u'DeviceName': '/dev/sdb', u'Ebs': {u'Status': 'attached', u'DeleteOnTermination': False, u'VolumeId': 'vol-03d3f8ad64d0bd840', u'AttachTime': datetime.datetime(2017, 10, 20, 1, 50, 59, tzinfo=tzutc())}}, {u'DeviceName': '/dev/sdc', u'Ebs': {u'Status': 'attached', u'DeleteOnTermination': False, u'VolumeId': 'vol-0f5e182e133a46eca', u'AttachTime': datetime.datetime(2017, 10, 20, 1, 50, 59, tzinfo=tzutc())}}, {u'DeviceName': '/dev/sdd', u'Ebs': {u'Status': 'attached', u'DeleteOnTermination': False, u'VolumeId': 'vol-0090a45e1b7feda37', u'AttachTime': datetime.datetime(2017, 10, 20, 1, 50, 59, tzinfo=tzutc())}}], u'Architecture': 'x86_64', u'RootDeviceType': 'ebs', u'RootDeviceName': '/dev/sda1', u'VirtualizationType': 'hvm', u'Tags': [{u'Value': 'Orcl12cSandbox', u'Key': 'Name'}], u'AmiLaunchIndex': 0}], u'ReservationId': 'r-0874e30689b13aaed', u'Groups': [], u'OwnerId': '483374585662'}], 'ResponseMetadata': {'RetryAttempts': 0, 'HTTPStatusCode': 200, 'RequestId': '281d9ba3-d43d-44d1-bbd3-5581d97c0354', 'HTTPHeaders': {'transfer-encoding': 'chunked', 'vary': 'Accept-Encoding', 'server': 'AmazonEC2', 'content-type': 'text/xml;charset=UTF-8', 'date': 'Thu, 08 Feb 2018 20:08:16 GMT'}}}\n"
     ]
    }
   ],
   "source": [
    "print response"
   ]
  },
  {
   "cell_type": "code",
   "execution_count": 5,
   "metadata": {},
   "outputs": [
    {
     "name": "stdout",
     "output_type": "stream",
     "text": [
      "[{u'Instances': [{u'Monitoring': {u'State': 'disabled'}, u'PublicDnsName': '', u'StateReason': {u'Message': 'Client.UserInitiatedShutdown: User initiated shutdown', u'Code': 'Client.UserInitiatedShutdown'}, u'State': {u'Code': 80, u'Name': 'stopped'}, u'EbsOptimized': False, u'LaunchTime': datetime.datetime(2017, 11, 13, 23, 58, 37, tzinfo=tzutc()), u'PrivateIpAddress': '172.31.39.170', u'ProductCodes': [], u'VpcId': 'vpc-831776fa', u'StateTransitionReason': 'User initiated (2017-11-14 01:23:33 GMT)', u'InstanceId': 'i-0cf9a14366a969680', u'ImageId': 'ami-b9c38ad3', u'PrivateDnsName': 'ip-172-31-39-170.ec2.internal', u'KeyName': 'BabysFirstKey', u'SecurityGroups': [{u'GroupName': 'CentOS 7 -x86_64- - with Updates HVM-1708-AutogenByAWSMP-', u'GroupId': 'sg-a94fdbdb'}], u'ClientToken': 'FyQSj1509481531147', u'SubnetId': 'subnet-c6cb5d9c', u'InstanceType': 't2.small', u'NetworkInterfaces': [{u'Status': 'in-use', u'MacAddress': '0e:88:e6:d2:6a:dc', u'SourceDestCheck': True, u'VpcId': 'vpc-831776fa', u'Description': '', u'NetworkInterfaceId': 'eni-620505d5', u'PrivateIpAddresses': [{u'PrivateDnsName': 'ip-172-31-39-170.ec2.internal', u'Primary': True, u'PrivateIpAddress': '172.31.39.170'}], u'PrivateDnsName': 'ip-172-31-39-170.ec2.internal', u'Attachment': {u'Status': 'attached', u'DeviceIndex': 0, u'DeleteOnTermination': True, u'AttachmentId': 'eni-attach-32c7ecf7', u'AttachTime': datetime.datetime(2017, 10, 31, 20, 25, 32, tzinfo=tzutc())}, u'Groups': [{u'GroupName': 'CentOS 7 -x86_64- - with Updates HVM-1708-AutogenByAWSMP-', u'GroupId': 'sg-a94fdbdb'}], u'Ipv6Addresses': [], u'OwnerId': '483374585662', u'SubnetId': 'subnet-c6cb5d9c', u'PrivateIpAddress': '172.31.39.170'}], u'SourceDestCheck': True, u'Placement': {u'Tenancy': 'default', u'GroupName': '', u'AvailabilityZone': 'us-east-1d'}, u'Hypervisor': 'xen', u'BlockDeviceMappings': [{u'DeviceName': '/dev/sda1', u'Ebs': {u'Status': 'attached', u'DeleteOnTermination': True, u'VolumeId': 'vol-0f4f2c73a83246aad', u'AttachTime': datetime.datetime(2017, 10, 31, 20, 25, 33, tzinfo=tzutc())}}, {u'DeviceName': '/dev/sdc', u'Ebs': {u'Status': 'attached', u'DeleteOnTermination': False, u'VolumeId': 'vol-09ee49b7e9a643f3a', u'AttachTime': datetime.datetime(2017, 10, 31, 20, 25, 33, tzinfo=tzutc())}}, {u'DeviceName': '/dev/sdd', u'Ebs': {u'Status': 'attached', u'DeleteOnTermination': False, u'VolumeId': 'vol-0ab1e18eb4dc6c039', u'AttachTime': datetime.datetime(2017, 10, 31, 20, 25, 33, tzinfo=tzutc())}}, {u'DeviceName': '/dev/sdb', u'Ebs': {u'Status': 'attached', u'DeleteOnTermination': False, u'VolumeId': 'vol-03d385db97d79e788', u'AttachTime': datetime.datetime(2017, 10, 31, 20, 25, 33, tzinfo=tzutc())}}], u'Architecture': 'x86_64', u'RootDeviceType': 'ebs', u'RootDeviceName': '/dev/sda1', u'VirtualizationType': 'hvm', u'Tags': [{u'Value': 'EC212cdb', u'Key': 'Name'}], u'AmiLaunchIndex': 0}], u'ReservationId': 'r-0bb0446d317270205', u'Groups': [], u'OwnerId': '483374585662'}, {u'Instances': [{u'Monitoring': {u'State': 'disabled'}, u'PublicDnsName': 'ec2-54-161-86-244.compute-1.amazonaws.com', u'State': {u'Code': 16, u'Name': 'running'}, u'EbsOptimized': False, u'LaunchTime': datetime.datetime(2018, 2, 8, 20, 6, 57, tzinfo=tzutc()), u'PublicIpAddress': '54.161.86.244', u'PrivateIpAddress': '172.31.81.57', u'ProductCodes': [], u'VpcId': 'vpc-831776fa', u'StateTransitionReason': '', u'InstanceId': 'i-0a0f29c2e338fc66f', u'EnaSupport': True, u'ImageId': 'ami-0a9fac70', u'PrivateDnsName': 'ip-172-31-81-57.ec2.internal', u'KeyName': 'BabysFirstKey', u'SecurityGroups': [{u'GroupName': 'MyWebDMZ', u'GroupId': 'sg-9adee2eb'}], u'ClientToken': '', u'SubnetId': 'subnet-c2049bee', u'InstanceType': 't2.micro', u'NetworkInterfaces': [{u'Status': 'in-use', u'MacAddress': '12:2f:6a:4a:a9:3c', u'SourceDestCheck': True, u'VpcId': 'vpc-831776fa', u'Description': '', u'NetworkInterfaceId': 'eni-ce5a1203', u'PrivateIpAddresses': [{u'PrivateDnsName': 'ip-172-31-81-57.ec2.internal', u'PrivateIpAddress': '172.31.81.57', u'Primary': True, u'Association': {u'PublicIp': '54.161.86.244', u'PublicDnsName': 'ec2-54-161-86-244.compute-1.amazonaws.com', u'IpOwnerId': 'amazon'}}], u'PrivateDnsName': 'ip-172-31-81-57.ec2.internal', u'Attachment': {u'Status': 'attached', u'DeviceIndex': 0, u'DeleteOnTermination': True, u'AttachmentId': 'eni-attach-708aa1bd', u'AttachTime': datetime.datetime(2018, 2, 8, 20, 6, 57, tzinfo=tzutc())}, u'Groups': [{u'GroupName': 'MyWebDMZ', u'GroupId': 'sg-9adee2eb'}], u'Ipv6Addresses': [], u'OwnerId': '483374585662', u'PrivateIpAddress': '172.31.81.57', u'SubnetId': 'subnet-c2049bee', u'Association': {u'PublicIp': '54.161.86.244', u'PublicDnsName': 'ec2-54-161-86-244.compute-1.amazonaws.com', u'IpOwnerId': 'amazon'}}], u'SourceDestCheck': True, u'Placement': {u'Tenancy': 'default', u'GroupName': '', u'AvailabilityZone': 'us-east-1b'}, u'Hypervisor': 'xen', u'BlockDeviceMappings': [{u'DeviceName': '/dev/sda1', u'Ebs': {u'Status': 'attached', u'DeleteOnTermination': True, u'VolumeId': 'vol-080150e8019070345', u'AttachTime': datetime.datetime(2018, 2, 8, 20, 6, 57, tzinfo=tzutc())}}], u'Architecture': 'x86_64', u'RootDeviceType': 'ebs', u'RootDeviceName': '/dev/sda1', u'VirtualizationType': 'hvm', u'Tags': [{u'Value': 'R&D', u'Key': 'Dept'}, {u'Value': 'Sandbox', u'Key': 'Name'}, {u'Value': 'Wes', u'Key': 'User'}], u'AmiLaunchIndex': 0}], u'ReservationId': 'r-0f37e701af8d5f78e', u'Groups': [], u'OwnerId': '483374585662'}, {u'Instances': [{u'Monitoring': {u'State': 'disabled'}, u'PublicDnsName': '', u'StateReason': {u'Message': 'Client.UserInitiatedShutdown: User initiated shutdown', u'Code': 'Client.UserInitiatedShutdown'}, u'State': {u'Code': 80, u'Name': 'stopped'}, u'EbsOptimized': False, u'LaunchTime': datetime.datetime(2017, 10, 31, 20, 11, 16, tzinfo=tzutc()), u'PrivateIpAddress': '172.31.33.180', u'ProductCodes': [{u'ProductCodeId': 'aw0evgkw8e5c1q413zgy5pjce', u'ProductCodeType': 'marketplace'}], u'VpcId': 'vpc-831776fa', u'StateTransitionReason': 'User initiated (2017-10-31 20:25:46 GMT)', u'InstanceId': 'i-0ce759181b38fa500', u'EnaSupport': False, u'ImageId': 'ami-db48ada1', u'PrivateDnsName': 'ip-172-31-33-180.ec2.internal', u'KeyName': 'BabysFirstKey', u'SecurityGroups': [{u'GroupName': 'CentOS 7 -x86_64- - with Updates HVM-1708-AutogenByAWSMP-1', u'GroupId': 'sg-637de911'}], u'ClientToken': '150846425541675639', u'SubnetId': 'subnet-c6cb5d9c', u'InstanceType': 't2.small', u'NetworkInterfaces': [{u'Status': 'in-use', u'MacAddress': '0e:cc:4c:31:4d:f6', u'SourceDestCheck': True, u'VpcId': 'vpc-831776fa', u'Description': '', u'NetworkInterfaceId': 'eni-c2b71375', u'PrivateIpAddresses': [{u'PrivateDnsName': 'ip-172-31-33-180.ec2.internal', u'Primary': True, u'PrivateIpAddress': '172.31.33.180'}], u'PrivateDnsName': 'ip-172-31-33-180.ec2.internal', u'Attachment': {u'Status': 'attached', u'DeviceIndex': 0, u'DeleteOnTermination': True, u'AttachmentId': 'eni-attach-c3684601', u'AttachTime': datetime.datetime(2017, 10, 20, 1, 50, 58, tzinfo=tzutc())}, u'Groups': [{u'GroupName': 'CentOS 7 -x86_64- - with Updates HVM-1708-AutogenByAWSMP-1', u'GroupId': 'sg-637de911'}], u'Ipv6Addresses': [], u'OwnerId': '483374585662', u'SubnetId': 'subnet-c6cb5d9c', u'PrivateIpAddress': '172.31.33.180'}], u'SourceDestCheck': True, u'Placement': {u'Tenancy': 'default', u'GroupName': '', u'AvailabilityZone': 'us-east-1d'}, u'Hypervisor': 'xen', u'BlockDeviceMappings': [{u'DeviceName': '/dev/sda1', u'Ebs': {u'Status': 'attached', u'DeleteOnTermination': False, u'VolumeId': 'vol-041a6910c8048bc21', u'AttachTime': datetime.datetime(2017, 10, 20, 1, 50, 59, tzinfo=tzutc())}}, {u'DeviceName': '/dev/sdb', u'Ebs': {u'Status': 'attached', u'DeleteOnTermination': False, u'VolumeId': 'vol-03d3f8ad64d0bd840', u'AttachTime': datetime.datetime(2017, 10, 20, 1, 50, 59, tzinfo=tzutc())}}, {u'DeviceName': '/dev/sdc', u'Ebs': {u'Status': 'attached', u'DeleteOnTermination': False, u'VolumeId': 'vol-0f5e182e133a46eca', u'AttachTime': datetime.datetime(2017, 10, 20, 1, 50, 59, tzinfo=tzutc())}}, {u'DeviceName': '/dev/sdd', u'Ebs': {u'Status': 'attached', u'DeleteOnTermination': False, u'VolumeId': 'vol-0090a45e1b7feda37', u'AttachTime': datetime.datetime(2017, 10, 20, 1, 50, 59, tzinfo=tzutc())}}], u'Architecture': 'x86_64', u'RootDeviceType': 'ebs', u'RootDeviceName': '/dev/sda1', u'VirtualizationType': 'hvm', u'Tags': [{u'Value': 'Orcl12cSandbox', u'Key': 'Name'}], u'AmiLaunchIndex': 0}], u'ReservationId': 'r-0874e30689b13aaed', u'Groups': [], u'OwnerId': '483374585662'}]\n"
     ]
    }
   ],
   "source": [
    "print response[\"Reservations\"]"
   ]
  },
  {
   "cell_type": "code",
   "execution_count": 6,
   "metadata": {},
   "outputs": [
    {
     "name": "stdout",
     "output_type": "stream",
     "text": [
      "{u'Instances': [{u'Monitoring': {u'State': 'disabled'}, u'PublicDnsName': '', u'StateReason': {u'Message': 'Client.UserInitiatedShutdown: User initiated shutdown', u'Code': 'Client.UserInitiatedShutdown'}, u'State': {u'Code': 80, u'Name': 'stopped'}, u'EbsOptimized': False, u'LaunchTime': datetime.datetime(2017, 11, 13, 23, 58, 37, tzinfo=tzutc()), u'PrivateIpAddress': '172.31.39.170', u'ProductCodes': [], u'VpcId': 'vpc-831776fa', u'StateTransitionReason': 'User initiated (2017-11-14 01:23:33 GMT)', u'InstanceId': 'i-0cf9a14366a969680', u'ImageId': 'ami-b9c38ad3', u'PrivateDnsName': 'ip-172-31-39-170.ec2.internal', u'KeyName': 'BabysFirstKey', u'SecurityGroups': [{u'GroupName': 'CentOS 7 -x86_64- - with Updates HVM-1708-AutogenByAWSMP-', u'GroupId': 'sg-a94fdbdb'}], u'ClientToken': 'FyQSj1509481531147', u'SubnetId': 'subnet-c6cb5d9c', u'InstanceType': 't2.small', u'NetworkInterfaces': [{u'Status': 'in-use', u'MacAddress': '0e:88:e6:d2:6a:dc', u'SourceDestCheck': True, u'VpcId': 'vpc-831776fa', u'Description': '', u'NetworkInterfaceId': 'eni-620505d5', u'PrivateIpAddresses': [{u'PrivateDnsName': 'ip-172-31-39-170.ec2.internal', u'Primary': True, u'PrivateIpAddress': '172.31.39.170'}], u'PrivateDnsName': 'ip-172-31-39-170.ec2.internal', u'Attachment': {u'Status': 'attached', u'DeviceIndex': 0, u'DeleteOnTermination': True, u'AttachmentId': 'eni-attach-32c7ecf7', u'AttachTime': datetime.datetime(2017, 10, 31, 20, 25, 32, tzinfo=tzutc())}, u'Groups': [{u'GroupName': 'CentOS 7 -x86_64- - with Updates HVM-1708-AutogenByAWSMP-', u'GroupId': 'sg-a94fdbdb'}], u'Ipv6Addresses': [], u'OwnerId': '483374585662', u'SubnetId': 'subnet-c6cb5d9c', u'PrivateIpAddress': '172.31.39.170'}], u'SourceDestCheck': True, u'Placement': {u'Tenancy': 'default', u'GroupName': '', u'AvailabilityZone': 'us-east-1d'}, u'Hypervisor': 'xen', u'BlockDeviceMappings': [{u'DeviceName': '/dev/sda1', u'Ebs': {u'Status': 'attached', u'DeleteOnTermination': True, u'VolumeId': 'vol-0f4f2c73a83246aad', u'AttachTime': datetime.datetime(2017, 10, 31, 20, 25, 33, tzinfo=tzutc())}}, {u'DeviceName': '/dev/sdc', u'Ebs': {u'Status': 'attached', u'DeleteOnTermination': False, u'VolumeId': 'vol-09ee49b7e9a643f3a', u'AttachTime': datetime.datetime(2017, 10, 31, 20, 25, 33, tzinfo=tzutc())}}, {u'DeviceName': '/dev/sdd', u'Ebs': {u'Status': 'attached', u'DeleteOnTermination': False, u'VolumeId': 'vol-0ab1e18eb4dc6c039', u'AttachTime': datetime.datetime(2017, 10, 31, 20, 25, 33, tzinfo=tzutc())}}, {u'DeviceName': '/dev/sdb', u'Ebs': {u'Status': 'attached', u'DeleteOnTermination': False, u'VolumeId': 'vol-03d385db97d79e788', u'AttachTime': datetime.datetime(2017, 10, 31, 20, 25, 33, tzinfo=tzutc())}}], u'Architecture': 'x86_64', u'RootDeviceType': 'ebs', u'RootDeviceName': '/dev/sda1', u'VirtualizationType': 'hvm', u'Tags': [{u'Value': 'EC212cdb', u'Key': 'Name'}], u'AmiLaunchIndex': 0}], u'ReservationId': 'r-0bb0446d317270205', u'Groups': [], u'OwnerId': '483374585662'}\n"
     ]
    }
   ],
   "source": [
    "print response[\"Reservations\"][0]"
   ]
  },
  {
   "cell_type": "code",
   "execution_count": 7,
   "metadata": {},
   "outputs": [
    {
     "name": "stdout",
     "output_type": "stream",
     "text": [
      "[{u'Monitoring': {u'State': 'disabled'}, u'PublicDnsName': '', u'StateReason': {u'Message': 'Client.UserInitiatedShutdown: User initiated shutdown', u'Code': 'Client.UserInitiatedShutdown'}, u'State': {u'Code': 80, u'Name': 'stopped'}, u'EbsOptimized': False, u'LaunchTime': datetime.datetime(2017, 11, 13, 23, 58, 37, tzinfo=tzutc()), u'PrivateIpAddress': '172.31.39.170', u'ProductCodes': [], u'VpcId': 'vpc-831776fa', u'StateTransitionReason': 'User initiated (2017-11-14 01:23:33 GMT)', u'InstanceId': 'i-0cf9a14366a969680', u'ImageId': 'ami-b9c38ad3', u'PrivateDnsName': 'ip-172-31-39-170.ec2.internal', u'KeyName': 'BabysFirstKey', u'SecurityGroups': [{u'GroupName': 'CentOS 7 -x86_64- - with Updates HVM-1708-AutogenByAWSMP-', u'GroupId': 'sg-a94fdbdb'}], u'ClientToken': 'FyQSj1509481531147', u'SubnetId': 'subnet-c6cb5d9c', u'InstanceType': 't2.small', u'NetworkInterfaces': [{u'Status': 'in-use', u'MacAddress': '0e:88:e6:d2:6a:dc', u'SourceDestCheck': True, u'VpcId': 'vpc-831776fa', u'Description': '', u'NetworkInterfaceId': 'eni-620505d5', u'PrivateIpAddresses': [{u'PrivateDnsName': 'ip-172-31-39-170.ec2.internal', u'Primary': True, u'PrivateIpAddress': '172.31.39.170'}], u'PrivateDnsName': 'ip-172-31-39-170.ec2.internal', u'Attachment': {u'Status': 'attached', u'DeviceIndex': 0, u'DeleteOnTermination': True, u'AttachmentId': 'eni-attach-32c7ecf7', u'AttachTime': datetime.datetime(2017, 10, 31, 20, 25, 32, tzinfo=tzutc())}, u'Groups': [{u'GroupName': 'CentOS 7 -x86_64- - with Updates HVM-1708-AutogenByAWSMP-', u'GroupId': 'sg-a94fdbdb'}], u'Ipv6Addresses': [], u'OwnerId': '483374585662', u'SubnetId': 'subnet-c6cb5d9c', u'PrivateIpAddress': '172.31.39.170'}], u'SourceDestCheck': True, u'Placement': {u'Tenancy': 'default', u'GroupName': '', u'AvailabilityZone': 'us-east-1d'}, u'Hypervisor': 'xen', u'BlockDeviceMappings': [{u'DeviceName': '/dev/sda1', u'Ebs': {u'Status': 'attached', u'DeleteOnTermination': True, u'VolumeId': 'vol-0f4f2c73a83246aad', u'AttachTime': datetime.datetime(2017, 10, 31, 20, 25, 33, tzinfo=tzutc())}}, {u'DeviceName': '/dev/sdc', u'Ebs': {u'Status': 'attached', u'DeleteOnTermination': False, u'VolumeId': 'vol-09ee49b7e9a643f3a', u'AttachTime': datetime.datetime(2017, 10, 31, 20, 25, 33, tzinfo=tzutc())}}, {u'DeviceName': '/dev/sdd', u'Ebs': {u'Status': 'attached', u'DeleteOnTermination': False, u'VolumeId': 'vol-0ab1e18eb4dc6c039', u'AttachTime': datetime.datetime(2017, 10, 31, 20, 25, 33, tzinfo=tzutc())}}, {u'DeviceName': '/dev/sdb', u'Ebs': {u'Status': 'attached', u'DeleteOnTermination': False, u'VolumeId': 'vol-03d385db97d79e788', u'AttachTime': datetime.datetime(2017, 10, 31, 20, 25, 33, tzinfo=tzutc())}}], u'Architecture': 'x86_64', u'RootDeviceType': 'ebs', u'RootDeviceName': '/dev/sda1', u'VirtualizationType': 'hvm', u'Tags': [{u'Value': 'EC212cdb', u'Key': 'Name'}], u'AmiLaunchIndex': 0}]\n"
     ]
    }
   ],
   "source": [
    "print response[\"Reservations\"][0][\"Instances\"]"
   ]
  },
  {
   "cell_type": "code",
   "execution_count": 9,
   "metadata": {},
   "outputs": [
    {
     "ename": "TypeError",
     "evalue": "datetime.datetime(2017, 11, 13, 23, 58, 37, tzinfo=tzutc()) is not JSON serializable",
     "output_type": "error",
     "traceback": [
      "\u001b[0;31m---------------------------------------------------------------------------\u001b[0m",
      "\u001b[0;31mTypeError\u001b[0m                                 Traceback (most recent call last)",
      "\u001b[0;32m<ipython-input-9-a5f9c0bc1c18>\u001b[0m in \u001b[0;36m<module>\u001b[0;34m()\u001b[0m\n\u001b[0;32m----> 1\u001b[0;31m \u001b[0mRenderJSON\u001b[0m\u001b[0;34m(\u001b[0m\u001b[0mresponse\u001b[0m\u001b[0;34m)\u001b[0m\u001b[0;34m\u001b[0m\u001b[0m\n\u001b[0m",
      "\u001b[0;32m<ipython-input-8-5c4e84e67916>\u001b[0m in \u001b[0;36m__init__\u001b[0;34m(self, json_data)\u001b[0m\n\u001b[1;32m      6\u001b[0m     \u001b[0;32mdef\u001b[0m \u001b[0m__init__\u001b[0m\u001b[0;34m(\u001b[0m\u001b[0mself\u001b[0m\u001b[0;34m,\u001b[0m \u001b[0mjson_data\u001b[0m\u001b[0;34m)\u001b[0m\u001b[0;34m:\u001b[0m\u001b[0;34m\u001b[0m\u001b[0m\n\u001b[1;32m      7\u001b[0m         \u001b[0;32mif\u001b[0m \u001b[0misinstance\u001b[0m\u001b[0;34m(\u001b[0m\u001b[0mjson_data\u001b[0m\u001b[0;34m,\u001b[0m \u001b[0mdict\u001b[0m\u001b[0;34m)\u001b[0m\u001b[0;34m:\u001b[0m\u001b[0;34m\u001b[0m\u001b[0m\n\u001b[0;32m----> 8\u001b[0;31m             \u001b[0mself\u001b[0m\u001b[0;34m.\u001b[0m\u001b[0mjson_str\u001b[0m \u001b[0;34m=\u001b[0m \u001b[0mjson\u001b[0m\u001b[0;34m.\u001b[0m\u001b[0mdumps\u001b[0m\u001b[0;34m(\u001b[0m\u001b[0mjson_data\u001b[0m\u001b[0;34m)\u001b[0m\u001b[0;34m\u001b[0m\u001b[0m\n\u001b[0m\u001b[1;32m      9\u001b[0m         \u001b[0;32melse\u001b[0m\u001b[0;34m:\u001b[0m\u001b[0;34m\u001b[0m\u001b[0m\n\u001b[1;32m     10\u001b[0m             \u001b[0mself\u001b[0m\u001b[0;34m.\u001b[0m\u001b[0mjson_str\u001b[0m \u001b[0;34m=\u001b[0m \u001b[0mjson\u001b[0m\u001b[0;34m\u001b[0m\u001b[0m\n",
      "\u001b[0;32m/anaconda2/lib/python2.7/json/__init__.pyc\u001b[0m in \u001b[0;36mdumps\u001b[0;34m(obj, skipkeys, ensure_ascii, check_circular, allow_nan, cls, indent, separators, encoding, default, sort_keys, **kw)\u001b[0m\n\u001b[1;32m    242\u001b[0m         \u001b[0mcls\u001b[0m \u001b[0;32mis\u001b[0m \u001b[0mNone\u001b[0m \u001b[0;32mand\u001b[0m \u001b[0mindent\u001b[0m \u001b[0;32mis\u001b[0m \u001b[0mNone\u001b[0m \u001b[0;32mand\u001b[0m \u001b[0mseparators\u001b[0m \u001b[0;32mis\u001b[0m \u001b[0mNone\u001b[0m \u001b[0;32mand\u001b[0m\u001b[0;34m\u001b[0m\u001b[0m\n\u001b[1;32m    243\u001b[0m         encoding == 'utf-8' and default is None and not sort_keys and not kw):\n\u001b[0;32m--> 244\u001b[0;31m         \u001b[0;32mreturn\u001b[0m \u001b[0m_default_encoder\u001b[0m\u001b[0;34m.\u001b[0m\u001b[0mencode\u001b[0m\u001b[0;34m(\u001b[0m\u001b[0mobj\u001b[0m\u001b[0;34m)\u001b[0m\u001b[0;34m\u001b[0m\u001b[0m\n\u001b[0m\u001b[1;32m    245\u001b[0m     \u001b[0;32mif\u001b[0m \u001b[0mcls\u001b[0m \u001b[0;32mis\u001b[0m \u001b[0mNone\u001b[0m\u001b[0;34m:\u001b[0m\u001b[0;34m\u001b[0m\u001b[0m\n\u001b[1;32m    246\u001b[0m         \u001b[0mcls\u001b[0m \u001b[0;34m=\u001b[0m \u001b[0mJSONEncoder\u001b[0m\u001b[0;34m\u001b[0m\u001b[0m\n",
      "\u001b[0;32m/anaconda2/lib/python2.7/json/encoder.pyc\u001b[0m in \u001b[0;36mencode\u001b[0;34m(self, o)\u001b[0m\n\u001b[1;32m    205\u001b[0m         \u001b[0;31m# exceptions aren't as detailed.  The list call should be roughly\u001b[0m\u001b[0;34m\u001b[0m\u001b[0;34m\u001b[0m\u001b[0m\n\u001b[1;32m    206\u001b[0m         \u001b[0;31m# equivalent to the PySequence_Fast that ''.join() would do.\u001b[0m\u001b[0;34m\u001b[0m\u001b[0;34m\u001b[0m\u001b[0m\n\u001b[0;32m--> 207\u001b[0;31m         \u001b[0mchunks\u001b[0m \u001b[0;34m=\u001b[0m \u001b[0mself\u001b[0m\u001b[0;34m.\u001b[0m\u001b[0miterencode\u001b[0m\u001b[0;34m(\u001b[0m\u001b[0mo\u001b[0m\u001b[0;34m,\u001b[0m \u001b[0m_one_shot\u001b[0m\u001b[0;34m=\u001b[0m\u001b[0mTrue\u001b[0m\u001b[0;34m)\u001b[0m\u001b[0;34m\u001b[0m\u001b[0m\n\u001b[0m\u001b[1;32m    208\u001b[0m         \u001b[0;32mif\u001b[0m \u001b[0;32mnot\u001b[0m \u001b[0misinstance\u001b[0m\u001b[0;34m(\u001b[0m\u001b[0mchunks\u001b[0m\u001b[0;34m,\u001b[0m \u001b[0;34m(\u001b[0m\u001b[0mlist\u001b[0m\u001b[0;34m,\u001b[0m \u001b[0mtuple\u001b[0m\u001b[0;34m)\u001b[0m\u001b[0;34m)\u001b[0m\u001b[0;34m:\u001b[0m\u001b[0;34m\u001b[0m\u001b[0m\n\u001b[1;32m    209\u001b[0m             \u001b[0mchunks\u001b[0m \u001b[0;34m=\u001b[0m \u001b[0mlist\u001b[0m\u001b[0;34m(\u001b[0m\u001b[0mchunks\u001b[0m\u001b[0;34m)\u001b[0m\u001b[0;34m\u001b[0m\u001b[0m\n",
      "\u001b[0;32m/anaconda2/lib/python2.7/json/encoder.pyc\u001b[0m in \u001b[0;36miterencode\u001b[0;34m(self, o, _one_shot)\u001b[0m\n\u001b[1;32m    268\u001b[0m                 \u001b[0mself\u001b[0m\u001b[0;34m.\u001b[0m\u001b[0mkey_separator\u001b[0m\u001b[0;34m,\u001b[0m \u001b[0mself\u001b[0m\u001b[0;34m.\u001b[0m\u001b[0mitem_separator\u001b[0m\u001b[0;34m,\u001b[0m \u001b[0mself\u001b[0m\u001b[0;34m.\u001b[0m\u001b[0msort_keys\u001b[0m\u001b[0;34m,\u001b[0m\u001b[0;34m\u001b[0m\u001b[0m\n\u001b[1;32m    269\u001b[0m                 self.skipkeys, _one_shot)\n\u001b[0;32m--> 270\u001b[0;31m         \u001b[0;32mreturn\u001b[0m \u001b[0m_iterencode\u001b[0m\u001b[0;34m(\u001b[0m\u001b[0mo\u001b[0m\u001b[0;34m,\u001b[0m \u001b[0;36m0\u001b[0m\u001b[0;34m)\u001b[0m\u001b[0;34m\u001b[0m\u001b[0m\n\u001b[0m\u001b[1;32m    271\u001b[0m \u001b[0;34m\u001b[0m\u001b[0m\n\u001b[1;32m    272\u001b[0m def _make_iterencode(markers, _default, _encoder, _indent, _floatstr,\n",
      "\u001b[0;32m/anaconda2/lib/python2.7/json/encoder.pyc\u001b[0m in \u001b[0;36mdefault\u001b[0;34m(self, o)\u001b[0m\n\u001b[1;32m    182\u001b[0m \u001b[0;34m\u001b[0m\u001b[0m\n\u001b[1;32m    183\u001b[0m         \"\"\"\n\u001b[0;32m--> 184\u001b[0;31m         \u001b[0;32mraise\u001b[0m \u001b[0mTypeError\u001b[0m\u001b[0;34m(\u001b[0m\u001b[0mrepr\u001b[0m\u001b[0;34m(\u001b[0m\u001b[0mo\u001b[0m\u001b[0;34m)\u001b[0m \u001b[0;34m+\u001b[0m \u001b[0;34m\" is not JSON serializable\"\u001b[0m\u001b[0;34m)\u001b[0m\u001b[0;34m\u001b[0m\u001b[0m\n\u001b[0m\u001b[1;32m    185\u001b[0m \u001b[0;34m\u001b[0m\u001b[0m\n\u001b[1;32m    186\u001b[0m     \u001b[0;32mdef\u001b[0m \u001b[0mencode\u001b[0m\u001b[0;34m(\u001b[0m\u001b[0mself\u001b[0m\u001b[0;34m,\u001b[0m \u001b[0mo\u001b[0m\u001b[0;34m)\u001b[0m\u001b[0;34m:\u001b[0m\u001b[0;34m\u001b[0m\u001b[0m\n",
      "\u001b[0;31mTypeError\u001b[0m: datetime.datetime(2017, 11, 13, 23, 58, 37, tzinfo=tzutc()) is not JSON serializable"
     ]
    }
   ],
   "source": [
    "RenderJSON(response) "
   ]
  },
  {
   "cell_type": "code",
   "execution_count": 10,
   "metadata": {},
   "outputs": [
    {
     "name": "stdout",
     "output_type": "stream",
     "text": [
      "{u'Monitoring': {u'State': 'disabled'}, u'PublicDnsName': '', u'StateReason': {u'Message': 'Client.UserInitiatedShutdown: User initiated shutdown', u'Code': 'Client.UserInitiatedShutdown'}, u'State': {u'Code': 80, u'Name': 'stopped'}, u'EbsOptimized': False, u'LaunchTime': datetime.datetime(2017, 11, 13, 23, 58, 37, tzinfo=tzutc()), u'PrivateIpAddress': '172.31.39.170', u'ProductCodes': [], u'VpcId': 'vpc-831776fa', u'StateTransitionReason': 'User initiated (2017-11-14 01:23:33 GMT)', u'InstanceId': 'i-0cf9a14366a969680', u'ImageId': 'ami-b9c38ad3', u'PrivateDnsName': 'ip-172-31-39-170.ec2.internal', u'KeyName': 'BabysFirstKey', u'SecurityGroups': [{u'GroupName': 'CentOS 7 -x86_64- - with Updates HVM-1708-AutogenByAWSMP-', u'GroupId': 'sg-a94fdbdb'}], u'ClientToken': 'FyQSj1509481531147', u'SubnetId': 'subnet-c6cb5d9c', u'InstanceType': 't2.small', u'NetworkInterfaces': [{u'Status': 'in-use', u'MacAddress': '0e:88:e6:d2:6a:dc', u'SourceDestCheck': True, u'VpcId': 'vpc-831776fa', u'Description': '', u'NetworkInterfaceId': 'eni-620505d5', u'PrivateIpAddresses': [{u'PrivateDnsName': 'ip-172-31-39-170.ec2.internal', u'Primary': True, u'PrivateIpAddress': '172.31.39.170'}], u'PrivateDnsName': 'ip-172-31-39-170.ec2.internal', u'Attachment': {u'Status': 'attached', u'DeviceIndex': 0, u'DeleteOnTermination': True, u'AttachmentId': 'eni-attach-32c7ecf7', u'AttachTime': datetime.datetime(2017, 10, 31, 20, 25, 32, tzinfo=tzutc())}, u'Groups': [{u'GroupName': 'CentOS 7 -x86_64- - with Updates HVM-1708-AutogenByAWSMP-', u'GroupId': 'sg-a94fdbdb'}], u'Ipv6Addresses': [], u'OwnerId': '483374585662', u'SubnetId': 'subnet-c6cb5d9c', u'PrivateIpAddress': '172.31.39.170'}], u'SourceDestCheck': True, u'Placement': {u'Tenancy': 'default', u'GroupName': '', u'AvailabilityZone': 'us-east-1d'}, u'Hypervisor': 'xen', u'BlockDeviceMappings': [{u'DeviceName': '/dev/sda1', u'Ebs': {u'Status': 'attached', u'DeleteOnTermination': True, u'VolumeId': 'vol-0f4f2c73a83246aad', u'AttachTime': datetime.datetime(2017, 10, 31, 20, 25, 33, tzinfo=tzutc())}}, {u'DeviceName': '/dev/sdc', u'Ebs': {u'Status': 'attached', u'DeleteOnTermination': False, u'VolumeId': 'vol-09ee49b7e9a643f3a', u'AttachTime': datetime.datetime(2017, 10, 31, 20, 25, 33, tzinfo=tzutc())}}, {u'DeviceName': '/dev/sdd', u'Ebs': {u'Status': 'attached', u'DeleteOnTermination': False, u'VolumeId': 'vol-0ab1e18eb4dc6c039', u'AttachTime': datetime.datetime(2017, 10, 31, 20, 25, 33, tzinfo=tzutc())}}, {u'DeviceName': '/dev/sdb', u'Ebs': {u'Status': 'attached', u'DeleteOnTermination': False, u'VolumeId': 'vol-03d385db97d79e788', u'AttachTime': datetime.datetime(2017, 10, 31, 20, 25, 33, tzinfo=tzutc())}}], u'Architecture': 'x86_64', u'RootDeviceType': 'ebs', u'RootDeviceName': '/dev/sda1', u'VirtualizationType': 'hvm', u'Tags': [{u'Value': 'EC212cdb', u'Key': 'Name'}], u'AmiLaunchIndex': 0}\n"
     ]
    }
   ],
   "source": [
    "print response[\"Reservations\"][0][\"Instances\"][0]"
   ]
  },
  {
   "cell_type": "code",
   "execution_count": 20,
   "metadata": {},
   "outputs": [],
   "source": [
    "myTags = response[\"Reservations\"][1][\"Instances\"][0][\"Tags\"]"
   ]
  },
  {
   "cell_type": "code",
   "execution_count": 15,
   "metadata": {},
   "outputs": [
    {
     "name": "stdout",
     "output_type": "stream",
     "text": [
      "[{u'Value': 'EC212cdb', u'Key': 'Name'}]\n",
      "[{u'Value': 'R&D', u'Key': 'Dept'}, {u'Value': 'Sandbox', u'Key': 'Name'}, {u'Value': 'Wes', u'Key': 'User'}]\n",
      "[{u'Value': 'Orcl12cSandbox', u'Key': 'Name'}]\n"
     ]
    }
   ],
   "source": [
    "for reservation in response[\"Reservations\"]:\n",
    "    for instance in reservation[\"Instances\"]:\n",
    "        print instance[\"Tags\"]"
   ]
  },
  {
   "cell_type": "code",
   "execution_count": 21,
   "metadata": {},
   "outputs": [
    {
     "name": "stdout",
     "output_type": "stream",
     "text": [
      "[{u'Value': 'R&D', u'Key': 'Dept'}, {u'Value': 'Sandbox', u'Key': 'Name'}, {u'Value': 'Wes', u'Key': 'User'}]\n"
     ]
    }
   ],
   "source": [
    "print myTags"
   ]
  },
  {
   "cell_type": "code",
   "execution_count": 22,
   "metadata": {},
   "outputs": [
    {
     "name": "stdout",
     "output_type": "stream",
     "text": [
      "{'Dept': 'R&D', 'Name': 'Sandbox', 'User': 'Wes'}\n"
     ]
    }
   ],
   "source": [
    "myTagDict = {}\n",
    "for pair in myTags:\n",
    "    myTagDict[pair[\"Key\"]] = pair[\"Value\"]\n",
    "    \n",
    "print myTagDict"
   ]
  },
  {
   "cell_type": "code",
   "execution_count": 23,
   "metadata": {},
   "outputs": [
    {
     "name": "stdout",
     "output_type": "stream",
     "text": [
      "Wes\n"
     ]
    }
   ],
   "source": [
    "if \"User\" in myTagDict:\n",
    "    print myTagDict[\"User\"]\n",
    "else:\n",
    "    print \"No User Specified\""
   ]
  },
  {
   "cell_type": "code",
   "execution_count": null,
   "metadata": {
    "collapsed": true
   },
   "outputs": [],
   "source": []
  }
 ],
 "metadata": {
  "kernelspec": {
   "display_name": "Python 2",
   "language": "python",
   "name": "python2"
  },
  "language_info": {
   "codemirror_mode": {
    "name": "ipython",
    "version": 2
   },
   "file_extension": ".py",
   "mimetype": "text/x-python",
   "name": "python",
   "nbconvert_exporter": "python",
   "pygments_lexer": "ipython2",
   "version": "2.7.14"
  }
 },
 "nbformat": 4,
 "nbformat_minor": 2
}

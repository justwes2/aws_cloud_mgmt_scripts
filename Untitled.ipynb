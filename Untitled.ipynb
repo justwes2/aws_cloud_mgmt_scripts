{
 "cells": [
  {
   "cell_type": "code",
   "execution_count": 7,
   "metadata": {},
   "outputs": [],
   "source": [
    "import boto3\n",
    "from pprint import pprint"
   ]
  },
  {
   "cell_type": "code",
   "execution_count": 8,
   "metadata": {
    "collapsed": true
   },
   "outputs": [],
   "source": [
    "client = boto3.client('ec2')"
   ]
  },
  {
   "cell_type": "code",
   "execution_count": 9,
   "metadata": {
    "collapsed": true
   },
   "outputs": [],
   "source": [
    "response = client.describe_instances()"
   ]
  },
  {
   "cell_type": "code",
   "execution_count": 10,
   "metadata": {},
   "outputs": [
    {
     "name": "stdout",
     "output_type": "stream",
     "text": [
      "{u'Reservations': [{u'Groups': [],\n",
      "                    u'Instances': [{u'AmiLaunchIndex': 0,\n",
      "                                    u'Architecture': 'x86_64',\n",
      "                                    u'BlockDeviceMappings': [{u'DeviceName': '/dev/sda1',\n",
      "                                                              u'Ebs': {u'AttachTime': datetime.datetime(2018, 4, 20, 1, 27, 5, tzinfo=tzutc()),\n",
      "                                                                       u'DeleteOnTermination': True,\n",
      "                                                                       u'Status': 'attached',\n",
      "                                                                       u'VolumeId': 'vol-0307d5c56eaae00cb'}}],\n",
      "                                    u'ClientToken': '152418762192459962',\n",
      "                                    u'EbsOptimized': False,\n",
      "                                    u'EnaSupport': True,\n",
      "                                    u'Hypervisor': 'xen',\n",
      "                                    u'ImageId': 'ami-b81dbfc5',\n",
      "                                    u'InstanceId': 'i-004718530d0ac97b9',\n",
      "                                    u'InstanceType': 't2.micro',\n",
      "                                    u'KeyName': 'AWS_Nova_Key',\n",
      "                                    u'LaunchTime': datetime.datetime(2018, 4, 20, 1, 27, 4, tzinfo=tzutc()),\n",
      "                                    u'Monitoring': {u'State': 'disabled'},\n",
      "                                    u'NetworkInterfaces': [{u'Attachment': {u'AttachTime': datetime.datetime(2018, 4, 20, 1, 27, 4, tzinfo=tzutc()),\n",
      "                                                                            u'AttachmentId': 'eni-attach-06df03b8f4c96e5ea',\n",
      "                                                                            u'DeleteOnTermination': True,\n",
      "                                                                            u'DeviceIndex': 0,\n",
      "                                                                            u'Status': 'attached'},\n",
      "                                                            u'Description': '',\n",
      "                                                            u'Groups': [{u'GroupId': 'sg-9adee2eb',\n",
      "                                                                         u'GroupName': 'MyWebDMZ'}],\n",
      "                                                            u'Ipv6Addresses': [],\n",
      "                                                            u'MacAddress': '12:23:0b:45:c8:de',\n",
      "                                                            u'NetworkInterfaceId': 'eni-0032c8b51c8d1e3f5',\n",
      "                                                            u'OwnerId': '483374585662',\n",
      "                                                            u'PrivateDnsName': 'ip-172-31-93-236.ec2.internal',\n",
      "                                                            u'PrivateIpAddress': '172.31.93.236',\n",
      "                                                            u'PrivateIpAddresses': [{u'Primary': True,\n",
      "                                                                                     u'PrivateDnsName': 'ip-172-31-93-236.ec2.internal',\n",
      "                                                                                     u'PrivateIpAddress': '172.31.93.236'}],\n",
      "                                                            u'SourceDestCheck': True,\n",
      "                                                            u'Status': 'in-use',\n",
      "                                                            u'SubnetId': 'subnet-c2049bee',\n",
      "                                                            u'VpcId': 'vpc-831776fa'}],\n",
      "                                    u'Placement': {u'AvailabilityZone': 'us-east-1b',\n",
      "                                                   u'GroupName': '',\n",
      "                                                   u'Tenancy': 'default'},\n",
      "                                    u'PrivateDnsName': 'ip-172-31-93-236.ec2.internal',\n",
      "                                    u'PrivateIpAddress': '172.31.93.236',\n",
      "                                    u'ProductCodes': [{u'ProductCodeId': 'aw0evgkw8e5c1q413zgy5pjce',\n",
      "                                                       u'ProductCodeType': 'marketplace'}],\n",
      "                                    u'PublicDnsName': '',\n",
      "                                    u'RootDeviceName': '/dev/sda1',\n",
      "                                    u'RootDeviceType': 'ebs',\n",
      "                                    u'SecurityGroups': [{u'GroupId': 'sg-9adee2eb',\n",
      "                                                         u'GroupName': 'MyWebDMZ'}],\n",
      "                                    u'SourceDestCheck': True,\n",
      "                                    u'State': {u'Code': 80,\n",
      "                                               u'Name': 'stopped'},\n",
      "                                    u'StateReason': {u'Code': 'Client.UserInitiatedShutdown',\n",
      "                                                     u'Message': 'Client.UserInitiatedShutdown: User initiated shutdown'},\n",
      "                                    u'StateTransitionReason': 'User initiated (2018-04-20 01:36:14 GMT)',\n",
      "                                    u'SubnetId': 'subnet-c2049bee',\n",
      "                                    u'Tags': [{u'Key': 'Dept',\n",
      "                                               u'Value': 'P&R'},\n",
      "                                              {u'Key': 'Name',\n",
      "                                               u'Value': 'MyVM'},\n",
      "                                              {u'Key': 'Project',\n",
      "                                               u'Value': 'Albatross'}],\n",
      "                                    u'VirtualizationType': 'hvm',\n",
      "                                    u'VpcId': 'vpc-831776fa'}],\n",
      "                    u'OwnerId': '483374585662',\n",
      "                    u'RequesterId': '086189789714',\n",
      "                    u'ReservationId': 'r-0d36c44e424b6c005'},\n",
      "                   {u'Groups': [],\n",
      "                    u'Instances': [{u'AmiLaunchIndex': 0,\n",
      "                                    u'Architecture': 'x86_64',\n",
      "                                    u'BlockDeviceMappings': [{u'DeviceName': '/dev/sda1',\n",
      "                                                              u'Ebs': {u'AttachTime': datetime.datetime(2018, 5, 16, 17, 16, 3, tzinfo=tzutc()),\n",
      "                                                                       u'DeleteOnTermination': True,\n",
      "                                                                       u'Status': 'attached',\n",
      "                                                                       u'VolumeId': 'vol-09d19e0658fe47a34'}}],\n",
      "                                    u'ClientToken': '',\n",
      "                                    u'EbsOptimized': False,\n",
      "                                    u'EnaSupport': True,\n",
      "                                    u'Hypervisor': 'xen',\n",
      "                                    u'ImageId': 'ami-43a15f3e',\n",
      "                                    u'InstanceId': 'i-0054be71631da68e8',\n",
      "                                    u'InstanceType': 't2.micro',\n",
      "                                    u'KeyName': 'AWS_Nova_Key',\n",
      "                                    u'LaunchTime': datetime.datetime(2018, 5, 16, 17, 16, 1, tzinfo=tzutc()),\n",
      "                                    u'Monitoring': {u'State': 'disabled'},\n",
      "                                    u'NetworkInterfaces': [{u'Attachment': {u'AttachTime': datetime.datetime(2018, 5, 16, 17, 16, 1, tzinfo=tzutc()),\n",
      "                                                                            u'AttachmentId': 'eni-attach-07e3c722a4b342822',\n",
      "                                                                            u'DeleteOnTermination': True,\n",
      "                                                                            u'DeviceIndex': 0,\n",
      "                                                                            u'Status': 'attached'},\n",
      "                                                            u'Description': '',\n",
      "                                                            u'Groups': [{u'GroupId': 'sg-9adee2eb',\n",
      "                                                                         u'GroupName': 'MyWebDMZ'}],\n",
      "                                                            u'Ipv6Addresses': [],\n",
      "                                                            u'MacAddress': '12:1c:59:a8:e2:66',\n",
      "                                                            u'NetworkInterfaceId': 'eni-054e4ca136aaa1e65',\n",
      "                                                            u'OwnerId': '483374585662',\n",
      "                                                            u'PrivateDnsName': 'ip-172-31-85-122.ec2.internal',\n",
      "                                                            u'PrivateIpAddress': '172.31.85.122',\n",
      "                                                            u'PrivateIpAddresses': [{u'Primary': True,\n",
      "                                                                                     u'PrivateDnsName': 'ip-172-31-85-122.ec2.internal',\n",
      "                                                                                     u'PrivateIpAddress': '172.31.85.122'}],\n",
      "                                                            u'SourceDestCheck': True,\n",
      "                                                            u'Status': 'in-use',\n",
      "                                                            u'SubnetId': 'subnet-c2049bee',\n",
      "                                                            u'VpcId': 'vpc-831776fa'}],\n",
      "                                    u'Placement': {u'AvailabilityZone': 'us-east-1b',\n",
      "                                                   u'GroupName': '',\n",
      "                                                   u'Tenancy': 'default'},\n",
      "                                    u'PrivateDnsName': 'ip-172-31-85-122.ec2.internal',\n",
      "                                    u'PrivateIpAddress': '172.31.85.122',\n",
      "                                    u'ProductCodes': [],\n",
      "                                    u'PublicDnsName': '',\n",
      "                                    u'RootDeviceName': '/dev/sda1',\n",
      "                                    u'RootDeviceType': 'ebs',\n",
      "                                    u'SecurityGroups': [{u'GroupId': 'sg-9adee2eb',\n",
      "                                                         u'GroupName': 'MyWebDMZ'}],\n",
      "                                    u'SourceDestCheck': True,\n",
      "                                    u'State': {u'Code': 80,\n",
      "                                               u'Name': 'stopped'},\n",
      "                                    u'StateReason': {u'Code': 'Client.UserInitiatedShutdown',\n",
      "                                                     u'Message': 'Client.UserInitiatedShutdown: User initiated shutdown'},\n",
      "                                    u'StateTransitionReason': 'User initiated (2018-05-16 17:25:03 GMT)',\n",
      "                                    u'SubnetId': 'subnet-c2049bee',\n",
      "                                    u'Tags': [{u'Key': 'Name',\n",
      "                                               u'Value': 'NodeSandbox'}],\n",
      "                                    u'VirtualizationType': 'hvm',\n",
      "                                    u'VpcId': 'vpc-831776fa'}],\n",
      "                    u'OwnerId': '483374585662',\n",
      "                    u'ReservationId': 'r-01bb7c5f782333a07'}],\n",
      " 'ResponseMetadata': {'HTTPHeaders': {'content-type': 'text/xml;charset=UTF-8',\n",
      "                                      'date': 'Thu, 31 May 2018 14:57:39 GMT',\n",
      "                                      'server': 'AmazonEC2',\n",
      "                                      'transfer-encoding': 'chunked',\n",
      "                                      'vary': 'Accept-Encoding'},\n",
      "                      'HTTPStatusCode': 200,\n",
      "                      'RequestId': '80962821-2953-4961-a25c-8ad5e4c81c5f',\n",
      "                      'RetryAttempts': 0}}\n"
     ]
    }
   ],
   "source": [
    "pprint(response)"
   ]
  },
  {
   "cell_type": "code",
   "execution_count": 12,
   "metadata": {},
   "outputs": [],
   "source": [
    "Tags= [{u'Key': 'Dept',\n",
    "                                               u'Value': 'P&R'},\n",
    "                                              {u'Key': 'Name',\n",
    "                                               u'Value': 'MyVM'},\n",
    "                                              {u'Key': 'Project',\n",
    "                                               u'Value': 'Albatross'}]"
   ]
  },
  {
   "cell_type": "code",
   "execution_count": 14,
   "metadata": {},
   "outputs": [],
   "source": [
    "if 'Name' in Tags:\n",
    "    print True"
   ]
  },
  {
   "cell_type": "code",
   "execution_count": 15,
   "metadata": {
    "collapsed": true
   },
   "outputs": [],
   "source": [
    "for pair in Tags:\n",
    "    if pair[\"Key\"] == 'Name':\n",
    "        instName = pair[\"Value\"]"
   ]
  },
  {
   "cell_type": "code",
   "execution_count": 16,
   "metadata": {},
   "outputs": [
    {
     "name": "stdout",
     "output_type": "stream",
     "text": [
      "MyVM\n"
     ]
    }
   ],
   "source": [
    "print instName"
   ]
  },
  {
   "cell_type": "code",
   "execution_count": null,
   "metadata": {
    "collapsed": true
   },
   "outputs": [],
   "source": []
  }
 ],
 "metadata": {
  "kernelspec": {
   "display_name": "Python 2",
   "language": "python",
   "name": "python2"
  },
  "language_info": {
   "codemirror_mode": {
    "name": "ipython",
    "version": 2
   },
   "file_extension": ".py",
   "mimetype": "text/x-python",
   "name": "python",
   "nbconvert_exporter": "python",
   "pygments_lexer": "ipython2",
   "version": "2.7.14"
  }
 },
 "nbformat": 4,
 "nbformat_minor": 2
}

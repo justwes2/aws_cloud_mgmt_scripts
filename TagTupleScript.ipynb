{
 "cells": [
  {
   "cell_type": "code",
   "execution_count": 3,
   "metadata": {
    "collapsed": true
   },
   "outputs": [],
   "source": [
    "import boto3"
   ]
  },
  {
   "cell_type": "code",
   "execution_count": 4,
   "metadata": {
    "collapsed": true
   },
   "outputs": [],
   "source": [
    "# List the instances you want to tag here. They should be in quotes, and separated by a comma\n",
    "instances = ('i-0dec50646b8e1173f', 'i-0cdc3d92e870c8fc7', 'i-004718530d0ac97b9', 'i-0054be71631da68e8')"
   ]
  },
  {
   "cell_type": "code",
   "execution_count": null,
   "metadata": {
    "collapsed": true
   },
   "outputs": [],
   "source": [
    "# Below are the values that are required for each instance. \n",
    "# Enter the value you want applied in the 'VALUE' slot\n",
    "ApplicationTag = 'VALUE'\n",
    "ResourcePOCTag = 'VALUE'\n",
    "EnvironmentTag = 'VALUE'\n",
    "BillingCodeTag = 'VALUE'"
   ]
  },
  {
   "cell_type": "code",
   "execution_count": 5,
   "metadata": {},
   "outputs": [],
   "source": [
    "ec2 =  boto3.client('ec2')"
   ]
  },
  {
   "cell_type": "code",
   "execution_count": 8,
   "metadata": {},
   "outputs": [],
   "source": [
    "for instance in instances:\n",
    "    ec2.create_tags(\n",
    "#         if you want to make sure the script behaves as intended without making any changes,\n",
    "#         uncomment the next line (remove the '#')\n",
    "    #     DryRun=True,\n",
    "        Resources=[\n",
    "            instance,\n",
    "        ],\n",
    "        Tags=[\n",
    "#             These are the reqired tags for each vm. \n",
    "#             If you do not want to apply a specified tag to the instanes, comment that object out\n",
    "#             Comment it out by adding a '#' in front of the four lines, from '{' to '},'\n",
    "            {\n",
    "                'Key': 'Application',\n",
    "                'Value': ApplicationTag\n",
    "            },\n",
    "            {\n",
    "                'Key': 'ResourcePOC',\n",
    "                'Value': ResourcePOCTag\n",
    "            },\n",
    "            {\n",
    "                'Key': 'Environment',\n",
    "                'Value': EnvironmentTag\n",
    "            },\n",
    "            {\n",
    "                'Key': 'BillingCode',\n",
    "                'Value': BillingCodeTag\n",
    "            },\n",
    "        ]\n",
    "    )"
   ]
  },
  {
   "cell_type": "code",
   "execution_count": null,
   "metadata": {
    "collapsed": true
   },
   "outputs": [],
   "source": []
  }
 ],
 "metadata": {
  "kernelspec": {
   "display_name": "Python 2",
   "language": "python",
   "name": "python2"
  },
  "language_info": {
   "codemirror_mode": {
    "name": "ipython",
    "version": 2
   },
   "file_extension": ".py",
   "mimetype": "text/x-python",
   "name": "python",
   "nbconvert_exporter": "python",
   "pygments_lexer": "ipython2",
   "version": "2.7.14"
  }
 },
 "nbformat": 4,
 "nbformat_minor": 2
}
